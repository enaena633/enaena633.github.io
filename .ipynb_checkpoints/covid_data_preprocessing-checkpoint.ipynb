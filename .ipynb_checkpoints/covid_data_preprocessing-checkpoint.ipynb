{
 "cells": [
  {
   "cell_type": "markdown",
   "metadata": {},
   "source": [
    "# Data Visualization - COVID Dataset Pre-Processing\n",
    "\n"
   ]
  },
  {
   "cell_type": "code",
   "execution_count": 1,
   "metadata": {},
   "outputs": [],
   "source": [
    "import numpy as np\n",
    "import pandas as pd\n",
    "import sqlite3\n",
    "import math\n",
    "from datetime import datetime"
   ]
  },
  {
   "cell_type": "code",
   "execution_count": 2,
   "metadata": {},
   "outputs": [],
   "source": [
    "# alt.data_transformers.disable_max_rows()"
   ]
  },
  {
   "cell_type": "code",
   "execution_count": 3,
   "metadata": {},
   "outputs": [],
   "source": [
    "# Read data files\n",
    "covid_data = pd.read_csv('owid-covid-data.csv')\n"
   ]
  },
  {
   "cell_type": "code",
   "execution_count": 4,
   "metadata": {},
   "outputs": [
    {
     "name": "stderr",
     "output_type": "stream",
     "text": [
      "<ipython-input-4-567ebd494391>:12: RuntimeWarning: divide by zero encountered in log\n",
      "  covid_new_cases[[\"new_cases\"]] = np.log(covid_new_cases[[\"new_cases\"]])\n",
      "<ipython-input-4-567ebd494391>:12: RuntimeWarning: invalid value encountered in log\n",
      "  covid_new_cases[[\"new_cases\"]] = np.log(covid_new_cases[[\"new_cases\"]])\n"
     ]
    }
   ],
   "source": [
    "# covid_data.head(2)\n",
    "# covid_data.info()\n",
    "\n",
    "#remove missing total_cases and people_fully_vaccinated_per_hundred by country\n",
    "\n",
    "covid_total_cases = covid_data[[\"location\", \"date\" , \"total_cases\"]].dropna(axis=0)  \n",
    "covid_total_cases[[\"total_cases\"]] = np.log(covid_total_cases[[\"total_cases\"]])\n",
    "\n",
    "# print(covid_total_cases.info())\n",
    "\n",
    "covid_new_cases = covid_data[[\"location\", \"date\" , \"new_cases\"]].dropna(axis=0)  \n",
    "covid_new_cases[[\"new_cases\"]] = np.log(covid_new_cases[[\"new_cases\"]])\n",
    "# print(covid_new_cases.info())\n",
    "\n",
    "covid_vaccination = covid_data[[\"location\", \"date\" , \"people_fully_vaccinated_per_hundred\"]].dropna(axis=0)  \n",
    "# print(covid_vaccination.info())\n",
    "\n"
   ]
  },
  {
   "cell_type": "code",
   "execution_count": 5,
   "metadata": {},
   "outputs": [
    {
     "data": {
      "text/html": [
       "<div>\n",
       "<style scoped>\n",
       "    .dataframe tbody tr th:only-of-type {\n",
       "        vertical-align: middle;\n",
       "    }\n",
       "\n",
       "    .dataframe tbody tr th {\n",
       "        vertical-align: top;\n",
       "    }\n",
       "\n",
       "    .dataframe thead tr th {\n",
       "        text-align: left;\n",
       "    }\n",
       "\n",
       "    .dataframe thead tr:last-of-type th {\n",
       "        text-align: right;\n",
       "    }\n",
       "</style>\n",
       "<table border=\"1\" class=\"dataframe\">\n",
       "  <thead>\n",
       "    <tr>\n",
       "      <th></th>\n",
       "      <th colspan=\"2\" halign=\"left\">people_fully_vaccinated_per_hundred</th>\n",
       "    </tr>\n",
       "    <tr>\n",
       "      <th></th>\n",
       "      <th>min</th>\n",
       "      <th>max</th>\n",
       "    </tr>\n",
       "    <tr>\n",
       "      <th>date</th>\n",
       "      <th></th>\n",
       "      <th></th>\n",
       "    </tr>\n",
       "  </thead>\n",
       "  <tbody>\n",
       "    <tr>\n",
       "      <th>2021-06-10</th>\n",
       "      <td>15.51</td>\n",
       "      <td>15.51</td>\n",
       "    </tr>\n",
       "  </tbody>\n",
       "</table>\n",
       "</div>"
      ],
      "text/plain": [
       "           people_fully_vaccinated_per_hundred       \n",
       "                                           min    max\n",
       "date                                                 \n",
       "2021-06-10                               15.51  15.51"
      ]
     },
     "execution_count": 5,
     "metadata": {},
     "output_type": "execute_result"
    }
   ],
   "source": [
    "covid_vaccination[covid_vaccination[\"location\"]==\"China\"].groupby([\"date\"]).agg({\"people_fully_vaccinated_per_hundred\":[\"min\",\"max\"]})"
   ]
  },
  {
   "cell_type": "code",
   "execution_count": 6,
   "metadata": {},
   "outputs": [
    {
     "data": {
      "text/html": [
       "<div>\n",
       "<style scoped>\n",
       "    .dataframe tbody tr th:only-of-type {\n",
       "        vertical-align: middle;\n",
       "    }\n",
       "\n",
       "    .dataframe tbody tr th {\n",
       "        vertical-align: top;\n",
       "    }\n",
       "\n",
       "    .dataframe thead tr th {\n",
       "        text-align: left;\n",
       "    }\n",
       "\n",
       "    .dataframe thead tr:last-of-type th {\n",
       "        text-align: right;\n",
       "    }\n",
       "</style>\n",
       "<table border=\"1\" class=\"dataframe\">\n",
       "  <thead>\n",
       "    <tr>\n",
       "      <th></th>\n",
       "      <th colspan=\"2\" halign=\"left\">date</th>\n",
       "    </tr>\n",
       "    <tr>\n",
       "      <th></th>\n",
       "      <th>min</th>\n",
       "      <th>max</th>\n",
       "    </tr>\n",
       "    <tr>\n",
       "      <th>location</th>\n",
       "      <th></th>\n",
       "      <th></th>\n",
       "    </tr>\n",
       "  </thead>\n",
       "  <tbody>\n",
       "    <tr>\n",
       "      <th>Australia</th>\n",
       "      <td>2020-01-26</td>\n",
       "      <td>2021-07-11</td>\n",
       "    </tr>\n",
       "    <tr>\n",
       "      <th>Canada</th>\n",
       "      <td>2020-01-26</td>\n",
       "      <td>2021-07-11</td>\n",
       "    </tr>\n",
       "    <tr>\n",
       "      <th>China</th>\n",
       "      <td>2020-01-22</td>\n",
       "      <td>2021-07-11</td>\n",
       "    </tr>\n",
       "    <tr>\n",
       "      <th>Italy</th>\n",
       "      <td>2020-01-31</td>\n",
       "      <td>2021-07-11</td>\n",
       "    </tr>\n",
       "    <tr>\n",
       "      <th>Japan</th>\n",
       "      <td>2020-01-22</td>\n",
       "      <td>2021-07-11</td>\n",
       "    </tr>\n",
       "    <tr>\n",
       "      <th>Singapore</th>\n",
       "      <td>2020-01-23</td>\n",
       "      <td>2021-07-11</td>\n",
       "    </tr>\n",
       "    <tr>\n",
       "      <th>United Kingdom</th>\n",
       "      <td>2020-01-31</td>\n",
       "      <td>2021-07-11</td>\n",
       "    </tr>\n",
       "    <tr>\n",
       "      <th>United States</th>\n",
       "      <td>2020-01-22</td>\n",
       "      <td>2021-07-11</td>\n",
       "    </tr>\n",
       "  </tbody>\n",
       "</table>\n",
       "</div>"
      ],
      "text/plain": [
       "                      date            \n",
       "                       min         max\n",
       "location                              \n",
       "Australia       2020-01-26  2021-07-11\n",
       "Canada          2020-01-26  2021-07-11\n",
       "China           2020-01-22  2021-07-11\n",
       "Italy           2020-01-31  2021-07-11\n",
       "Japan           2020-01-22  2021-07-11\n",
       "Singapore       2020-01-23  2021-07-11\n",
       "United Kingdom  2020-01-31  2021-07-11\n",
       "United States   2020-01-22  2021-07-11"
      ]
     },
     "execution_count": 6,
     "metadata": {},
     "output_type": "execute_result"
    }
   ],
   "source": [
    "selected_locations1 = [\"China\", \"Singapore\", \"Italy\", \"United Kingdom\", \"Japan\", \"Canada\", \"United States\", \"Australia\"]\n",
    "\n",
    "covid_total_cases = covid_total_cases[covid_total_cases[\"location\"].isin(selected_locations1)]\n",
    "covid_total_cases.groupby([\"location\"]).agg({\"date\":[\"min\", \"max\"]})\n",
    "# covid_new_cases[covid_new_cases[\"location\"].isin(selected_locations1)].groupby([\"location\"]).agg({\"date\":[\"min\", \"max\"]})"
   ]
  },
  {
   "cell_type": "code",
   "execution_count": 7,
   "metadata": {},
   "outputs": [
    {
     "data": {
      "text/html": [
       "<div>\n",
       "<style scoped>\n",
       "    .dataframe tbody tr th:only-of-type {\n",
       "        vertical-align: middle;\n",
       "    }\n",
       "\n",
       "    .dataframe tbody tr th {\n",
       "        vertical-align: top;\n",
       "    }\n",
       "\n",
       "    .dataframe thead tr th {\n",
       "        text-align: left;\n",
       "    }\n",
       "\n",
       "    .dataframe thead tr:last-of-type th {\n",
       "        text-align: right;\n",
       "    }\n",
       "</style>\n",
       "<table border=\"1\" class=\"dataframe\">\n",
       "  <thead>\n",
       "    <tr>\n",
       "      <th></th>\n",
       "      <th colspan=\"2\" halign=\"left\">date</th>\n",
       "    </tr>\n",
       "    <tr>\n",
       "      <th></th>\n",
       "      <th>min</th>\n",
       "      <th>max</th>\n",
       "    </tr>\n",
       "    <tr>\n",
       "      <th>location</th>\n",
       "      <th></th>\n",
       "      <th></th>\n",
       "    </tr>\n",
       "  </thead>\n",
       "  <tbody>\n",
       "    <tr>\n",
       "      <th>Canada</th>\n",
       "      <td>2021-01-06</td>\n",
       "      <td>2021-07-11</td>\n",
       "    </tr>\n",
       "    <tr>\n",
       "      <th>Italy</th>\n",
       "      <td>2021-01-04</td>\n",
       "      <td>2021-07-11</td>\n",
       "    </tr>\n",
       "    <tr>\n",
       "      <th>Japan</th>\n",
       "      <td>2021-03-10</td>\n",
       "      <td>2021-07-11</td>\n",
       "    </tr>\n",
       "    <tr>\n",
       "      <th>Singapore</th>\n",
       "      <td>2021-01-27</td>\n",
       "      <td>2021-07-09</td>\n",
       "    </tr>\n",
       "    <tr>\n",
       "      <th>United Kingdom</th>\n",
       "      <td>2021-01-10</td>\n",
       "      <td>2021-07-10</td>\n",
       "    </tr>\n",
       "    <tr>\n",
       "      <th>United States</th>\n",
       "      <td>2021-01-14</td>\n",
       "      <td>2021-07-11</td>\n",
       "    </tr>\n",
       "  </tbody>\n",
       "</table>\n",
       "</div>"
      ],
      "text/plain": [
       "                      date            \n",
       "                       min         max\n",
       "location                              \n",
       "Canada          2021-01-06  2021-07-11\n",
       "Italy           2021-01-04  2021-07-11\n",
       "Japan           2021-03-10  2021-07-11\n",
       "Singapore       2021-01-27  2021-07-09\n",
       "United Kingdom  2021-01-10  2021-07-10\n",
       "United States   2021-01-14  2021-07-11"
      ]
     },
     "execution_count": 7,
     "metadata": {},
     "output_type": "execute_result"
    }
   ],
   "source": [
    "\n",
    "selected_locations2 = [\"Singapore\", \"Italy\", \"United Kingdom\", \"Japan\", \"Canada\", \"United States\"]\n",
    "\n",
    "covid_vaccination = covid_vaccination[covid_vaccination[\"location\"].isin(selected_locations2)]\n",
    "covid_vaccination.groupby([\"location\"]).agg({\"date\":[\"min\", \"max\"]})\n"
   ]
  },
  {
   "cell_type": "code",
   "execution_count": 8,
   "metadata": {},
   "outputs": [],
   "source": [
    "# Create database for exercise with tables\n",
    "conn = sqlite3.connect('covid.db')\n",
    "curr = conn.cursor()\n",
    "# Create tables\n",
    "curr.execute('''CREATE TABLE IF NOT EXISTS covid_total_cases\n",
    "               (location text, date datetime, total_cases float)''')\n",
    "\n",
    "curr.execute('''CREATE TABLE IF NOT EXISTS covid_new_cases\n",
    "               (location text, date datetime, new_cases float )''')\n",
    "\n",
    "curr.execute('''CREATE TABLE IF NOT EXISTS covid_vaccination\n",
    "               (location text, date datetime, people_fully_vaccinated_per_hundred float)''')\n",
    "\n",
    "\n",
    "# Load data into tables\n",
    "covid_total_cases.to_sql('covid_total_cases', conn, if_exists='replace', index = False)\n",
    "covid_new_cases.to_sql('covid_new_cases', conn, if_exists='replace', index = False)\n",
    "covid_vaccination.to_sql('covid_vaccination', conn, if_exists='replace', index = False)"
   ]
  },
  {
   "cell_type": "code",
   "execution_count": 9,
   "metadata": {},
   "outputs": [],
   "source": [
    "# conn.close()"
   ]
  },
  {
   "cell_type": "markdown",
   "metadata": {},
   "source": [
    "## Graph 1\n",
    "### 1a: Calculate total cases by month for each location"
   ]
  },
  {
   "cell_type": "code",
   "execution_count": 10,
   "metadata": {},
   "outputs": [
    {
     "ename": "ProgrammingError",
     "evalue": "Cannot operate on a closed database.",
     "output_type": "error",
     "traceback": [
      "\u001b[0;31m---------------------------------------------------------------------------\u001b[0m",
      "\u001b[0;31mProgrammingError\u001b[0m                          Traceback (most recent call last)",
      "\u001b[0;32m<ipython-input-10-fc343144c74f>\u001b[0m in \u001b[0;36m<module>\u001b[0;34m\u001b[0m\n\u001b[1;32m     18\u001b[0m \"\"\"\n\u001b[1;32m     19\u001b[0m \u001b[0;34m\u001b[0m\u001b[0m\n\u001b[0;32m---> 20\u001b[0;31m \u001b[0mdata_total_cases\u001b[0m \u001b[0;34m=\u001b[0m \u001b[0mpd\u001b[0m\u001b[0;34m.\u001b[0m\u001b[0mread_sql_query\u001b[0m\u001b[0;34m(\u001b[0m\u001b[0mquery1\u001b[0m\u001b[0;34m,\u001b[0m \u001b[0mconn\u001b[0m\u001b[0;34m)\u001b[0m\u001b[0;34m\u001b[0m\u001b[0;34m\u001b[0m\u001b[0m\n\u001b[0m\u001b[1;32m     21\u001b[0m \u001b[0mdata_total_cases\u001b[0m\u001b[0;34m.\u001b[0m\u001b[0mto_json\u001b[0m\u001b[0;34m(\u001b[0m\u001b[0;34m'clean_data_total_cases.json'\u001b[0m\u001b[0;34m)\u001b[0m\u001b[0;34m\u001b[0m\u001b[0;34m\u001b[0m\u001b[0m\n",
      "\u001b[0;32m/opt/anaconda3/lib/python3.8/site-packages/pandas/io/sql.py\u001b[0m in \u001b[0;36mread_sql_query\u001b[0;34m(sql, con, index_col, coerce_float, params, parse_dates, chunksize)\u001b[0m\n\u001b[1;32m    375\u001b[0m     \"\"\"\n\u001b[1;32m    376\u001b[0m     \u001b[0mpandas_sql\u001b[0m \u001b[0;34m=\u001b[0m \u001b[0mpandasSQL_builder\u001b[0m\u001b[0;34m(\u001b[0m\u001b[0mcon\u001b[0m\u001b[0;34m)\u001b[0m\u001b[0;34m\u001b[0m\u001b[0;34m\u001b[0m\u001b[0m\n\u001b[0;32m--> 377\u001b[0;31m     return pandas_sql.read_query(\n\u001b[0m\u001b[1;32m    378\u001b[0m         \u001b[0msql\u001b[0m\u001b[0;34m,\u001b[0m\u001b[0;34m\u001b[0m\u001b[0;34m\u001b[0m\u001b[0m\n\u001b[1;32m    379\u001b[0m         \u001b[0mindex_col\u001b[0m\u001b[0;34m=\u001b[0m\u001b[0mindex_col\u001b[0m\u001b[0;34m,\u001b[0m\u001b[0;34m\u001b[0m\u001b[0;34m\u001b[0m\u001b[0m\n",
      "\u001b[0;32m/opt/anaconda3/lib/python3.8/site-packages/pandas/io/sql.py\u001b[0m in \u001b[0;36mread_query\u001b[0;34m(self, sql, index_col, coerce_float, params, parse_dates, chunksize)\u001b[0m\n\u001b[1;32m   1725\u001b[0m \u001b[0;34m\u001b[0m\u001b[0m\n\u001b[1;32m   1726\u001b[0m         \u001b[0margs\u001b[0m \u001b[0;34m=\u001b[0m \u001b[0m_convert_params\u001b[0m\u001b[0;34m(\u001b[0m\u001b[0msql\u001b[0m\u001b[0;34m,\u001b[0m \u001b[0mparams\u001b[0m\u001b[0;34m)\u001b[0m\u001b[0;34m\u001b[0m\u001b[0;34m\u001b[0m\u001b[0m\n\u001b[0;32m-> 1727\u001b[0;31m         \u001b[0mcursor\u001b[0m \u001b[0;34m=\u001b[0m \u001b[0mself\u001b[0m\u001b[0;34m.\u001b[0m\u001b[0mexecute\u001b[0m\u001b[0;34m(\u001b[0m\u001b[0;34m*\u001b[0m\u001b[0margs\u001b[0m\u001b[0;34m)\u001b[0m\u001b[0;34m\u001b[0m\u001b[0;34m\u001b[0m\u001b[0m\n\u001b[0m\u001b[1;32m   1728\u001b[0m         \u001b[0mcolumns\u001b[0m \u001b[0;34m=\u001b[0m \u001b[0;34m[\u001b[0m\u001b[0mcol_desc\u001b[0m\u001b[0;34m[\u001b[0m\u001b[0;36m0\u001b[0m\u001b[0;34m]\u001b[0m \u001b[0;32mfor\u001b[0m \u001b[0mcol_desc\u001b[0m \u001b[0;32min\u001b[0m \u001b[0mcursor\u001b[0m\u001b[0;34m.\u001b[0m\u001b[0mdescription\u001b[0m\u001b[0;34m]\u001b[0m\u001b[0;34m\u001b[0m\u001b[0;34m\u001b[0m\u001b[0m\n\u001b[1;32m   1729\u001b[0m \u001b[0;34m\u001b[0m\u001b[0m\n",
      "\u001b[0;32m/opt/anaconda3/lib/python3.8/site-packages/pandas/io/sql.py\u001b[0m in \u001b[0;36mexecute\u001b[0;34m(self, *args, **kwargs)\u001b[0m\n\u001b[1;32m   1677\u001b[0m             \u001b[0mcur\u001b[0m \u001b[0;34m=\u001b[0m \u001b[0mself\u001b[0m\u001b[0;34m.\u001b[0m\u001b[0mcon\u001b[0m\u001b[0;34m\u001b[0m\u001b[0;34m\u001b[0m\u001b[0m\n\u001b[1;32m   1678\u001b[0m         \u001b[0;32melse\u001b[0m\u001b[0;34m:\u001b[0m\u001b[0;34m\u001b[0m\u001b[0;34m\u001b[0m\u001b[0m\n\u001b[0;32m-> 1679\u001b[0;31m             \u001b[0mcur\u001b[0m \u001b[0;34m=\u001b[0m \u001b[0mself\u001b[0m\u001b[0;34m.\u001b[0m\u001b[0mcon\u001b[0m\u001b[0;34m.\u001b[0m\u001b[0mcursor\u001b[0m\u001b[0;34m(\u001b[0m\u001b[0;34m)\u001b[0m\u001b[0;34m\u001b[0m\u001b[0;34m\u001b[0m\u001b[0m\n\u001b[0m\u001b[1;32m   1680\u001b[0m         \u001b[0;32mtry\u001b[0m\u001b[0;34m:\u001b[0m\u001b[0;34m\u001b[0m\u001b[0;34m\u001b[0m\u001b[0m\n\u001b[1;32m   1681\u001b[0m             \u001b[0mcur\u001b[0m\u001b[0;34m.\u001b[0m\u001b[0mexecute\u001b[0m\u001b[0;34m(\u001b[0m\u001b[0;34m*\u001b[0m\u001b[0margs\u001b[0m\u001b[0;34m,\u001b[0m \u001b[0;34m**\u001b[0m\u001b[0mkwargs\u001b[0m\u001b[0;34m)\u001b[0m\u001b[0;34m\u001b[0m\u001b[0;34m\u001b[0m\u001b[0m\n",
      "\u001b[0;31mProgrammingError\u001b[0m: Cannot operate on a closed database."
     ]
    }
   ],
   "source": [
    "# selected_locations1 = [\"China\", \"Singapore\", \"Italy\", \"United Kingdom\", \"Japan\", \"Canada\", \"United States\", \"Australia\"]\n",
    "\n",
    "query1 =\\\n",
    "\"\"\"\n",
    "SELECT \n",
    "    SUBSTR(CAST(date as char(10)), 1, 7) AS month,\n",
    "    SUM(CASE WHEN location=\"China\" then total_cases else 0 end) AS China,\n",
    "    SUM(CASE WHEN location=\"Japan\" then total_cases else 0 end) AS Japan,\n",
    "    SUM(CASE WHEN location=\"Singapore\" then total_cases else 0 end) AS Singapore,\n",
    "    SUM(CASE WHEN location=\"Italy\" then total_cases else 0 end) AS Italy,\n",
    "    SUM(CASE WHEN location=\"United Kingdom\" then total_cases else 0 end) AS United_Kingdom,\n",
    "    SUM(CASE WHEN location=\"Canada\" then total_cases else 0 end) AS Canada,\n",
    "    SUM(CASE WHEN location=\"United States\" then total_cases else 0 end) AS United_States,\n",
    "    SUM(CASE WHEN location=\"Australia\" then total_cases else 0 end) AS Australia\n",
    "    \n",
    "FROM covid_total_cases t \n",
    "GROUP BY 1\n",
    "\"\"\"\n",
    "\n",
    "data_total_cases = pd.read_sql_query(query1, conn)\n",
    "data_total_cases.to_json('clean_data_total_cases.json')"
   ]
  },
  {
   "cell_type": "code",
   "execution_count": null,
   "metadata": {},
   "outputs": [],
   "source": [
    "\n",
    "covid_total_cases.to_csv('clean_data_total_cases.csv', index=False)\n",
    "covid_vaccination.to_csv('clean_data_full_vaccination.csv', index=False)\n"
   ]
  },
  {
   "cell_type": "markdown",
   "metadata": {},
   "source": [
    "### 1b:  1a: Calculate new cases by month for each location"
   ]
  },
  {
   "cell_type": "code",
   "execution_count": null,
   "metadata": {},
   "outputs": [],
   "source": [
    "# selected_locations1 = [\"China\", \"Singapore\", \"Italy\", \"United Kingdom\", \"Japan\", \"Canada\", \"United States\", \"Australia\"]\n",
    "\n",
    "query2 = \\\n",
    "\"\"\"\n",
    "SELECT \n",
    "    SUBSTR(CAST(date as char(10)), 1, 7) AS month,\n",
    "    SUM(CASE WHEN location=\"China\" then new_cases else 0 end) AS China,\n",
    "    SUM(CASE WHEN location=\"Japan\" then new_cases else 0 end) AS Japan,\n",
    "    SUM(CASE WHEN location=\"Singapore\" then new_cases else 0 end) AS Singapore,\n",
    "    SUM(CASE WHEN location=\"Italy\" then new_cases else 0 end) AS Italy,\n",
    "    SUM(CASE WHEN location=\"United Kingdom\" then new_cases else 0 end) AS United_Kingdom,\n",
    "    SUM(CASE WHEN location=\"Canada\" then new_cases else 0 end) AS Canada,\n",
    "    SUM(CASE WHEN location=\"United States\" then new_cases else 0 end) AS United_States,\n",
    "    SUM(CASE WHEN location=\"Australia\" then new_cases else 0 end) AS Australia\n",
    "    \n",
    "FROM covid_new_cases n\n",
    "GROUP BY 1\n",
    "\"\"\"\n",
    "\n",
    "pd.read_sql_query(query2, conn)\n"
   ]
  },
  {
   "cell_type": "markdown",
   "metadata": {},
   "source": [
    "### 1c:  1a: Calculate average number of people fully vaccinated per hundred by month for each location"
   ]
  },
  {
   "cell_type": "code",
   "execution_count": null,
   "metadata": {},
   "outputs": [],
   "source": [
    "# selected_locations2 = [\"Singapore\", \"Italy\", \"United Kingdom\", \"Japan\", \"Canada\", \"United States\"]\n",
    "\n",
    "query2b = \\\n",
    "\"\"\"\n",
    "SELECT \n",
    "    SUBSTR(CAST(date as char(10)), 1, 7) AS month,\n",
    "    MAX(CASE WHEN location=\"Japan\" then people_fully_vaccinated_per_hundred else 0 end) AS Japan,\n",
    "    MAX(CASE WHEN location=\"Singapore\" then people_fully_vaccinated_per_hundred else 0 end) AS Singapore,\n",
    "    MAX(CASE WHEN location=\"Italy\" then people_fully_vaccinated_per_hundred else 0 end) AS Italy,\n",
    "    MAX(CASE WHEN location=\"United Kingdom\" then people_fully_vaccinated_per_hundred else 0 end) AS United_Kingdom,\n",
    "    MAX(CASE WHEN location=\"Canada\" then people_fully_vaccinated_per_hundred else 0 end) AS Canada,\n",
    "    MAX(CASE WHEN location=\"United States\" then people_fully_vaccinated_per_hundred else 0 end) AS United_States\n",
    "    \n",
    "FROM covid_vaccination v\n",
    "GROUP BY 1\n",
    "\n",
    "\"\"\"\n",
    "data_vaccination = pd.read_sql_query(query2b, conn)\n",
    "data_vaccination.to_json('clean_data_full_vaccination.json')"
   ]
  },
  {
   "cell_type": "code",
   "execution_count": null,
   "metadata": {},
   "outputs": [],
   "source": []
  },
  {
   "cell_type": "code",
   "execution_count": null,
   "metadata": {},
   "outputs": [],
   "source": []
  }
 ],
 "metadata": {
  "kernelspec": {
   "display_name": "Python 3",
   "language": "python",
   "name": "python3"
  },
  "language_info": {
   "codemirror_mode": {
    "name": "ipython",
    "version": 3
   },
   "file_extension": ".py",
   "mimetype": "text/x-python",
   "name": "python",
   "nbconvert_exporter": "python",
   "pygments_lexer": "ipython3",
   "version": "3.8.5"
  }
 },
 "nbformat": 4,
 "nbformat_minor": 4
}
